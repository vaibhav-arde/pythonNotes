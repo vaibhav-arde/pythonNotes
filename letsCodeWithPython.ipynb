{
  "nbformat": 4,
  "nbformat_minor": 0,
  "metadata": {
    "colab": {
      "provenance": [],
      "authorship_tag": "ABX9TyNMCtf3F42TBx/AQboEL/Ho",
      "include_colab_link": true
    },
    "kernelspec": {
      "name": "python3",
      "display_name": "Python 3"
    },
    "language_info": {
      "name": "python"
    }
  },
  "cells": [
    {
      "cell_type": "markdown",
      "metadata": {
        "id": "view-in-github",
        "colab_type": "text"
      },
      "source": [
        "<a href=\"https://colab.research.google.com/github/vaibhav-arde/pythonNotes/blob/main/letsCodeWithPython.ipynb\" target=\"_parent\"><img src=\"https://colab.research.google.com/assets/colab-badge.svg\" alt=\"Open In Colab\"/></a>"
      ]
    },
    {
      "cell_type": "code",
      "execution_count": null,
      "metadata": {
        "id": "c5taB-8XBYmD"
      },
      "outputs": [],
      "source": []
    },
    {
      "cell_type": "markdown",
      "source": [
        "#Introduction\n",
        "#\n",
        "What is Python?\n",
        "\n",
        "Python is a general-purpose programming language that is used for a wide variety of tasks, including web development, data science, machine learning, and artificial intelligence. It is a high-level language, which means that it is easy to learn and read. Python is also an interpreted language, which means that it does not need to be compiled before it can be run.\n",
        "\n",
        "#\n",
        "Why learn Python?\n",
        "\n",
        "Python is a general-purpose programming language that is used for a wide variety of tasks, including web development, data science, machine learning, and artificial intelligence. It is a high-level language, which means that it is easy to learn and read. Python is also an interpreted language, which means that it does not need to be compiled before it can be run.\n",
        "\n",
        "#\n",
        "Python basics\n",
        "\n",
        "variables, data types, operators, etc.\n",
        "\n",
        "\n",
        "#Python fundamentals\n",
        "\n",
        "Control flow statements (if, elif, else)\n",
        "\n",
        "Functions\n",
        "\n",
        "Loops\n",
        "\n",
        "Modules and packages\n",
        "\n",
        "Object-oriented programming in Python\n",
        "\n",
        "Classes and objects\n",
        "\n",
        "Inheritance\n",
        "\n",
        "Polymorphism\n",
        "\n",
        "#Python libraries and frameworks\n",
        "\n",
        "NumPy\n",
        "\n",
        "Pandas\n",
        "\n",
        "Matplotlib\n",
        "\n",
        "Seaborn\n",
        "\n",
        "Scikit-learn\n",
        "\n",
        "TensorFlow\n",
        "\n",
        "PyTorch\n",
        "\n",
        "#Python for data science\n",
        "\n",
        "Data cleaning and preprocessing\n",
        "\n",
        "Exploratory data analysis\n",
        "\n",
        "Machine learning\n",
        "\n",
        "Data visualization\n",
        "\n",
        "#Python for web development\n",
        "\n",
        "Django\n",
        "\n",
        "Flask\n",
        "\n",
        "Requests\n",
        "\n",
        "Beautiful Soup\n",
        "\n",
        "#Python for other applications\n",
        "\n",
        "Game development\n",
        "\n",
        "System administration\n",
        "\n",
        "DevOps"
      ],
      "metadata": {
        "id": "YicLwpdHBdx-"
      }
    },
    {
      "cell_type": "code",
      "source": [
        "#==================================================="
      ],
      "metadata": {
        "id": "6HcUgo8XDU6G"
      },
      "execution_count": 1,
      "outputs": []
    },
    {
      "cell_type": "markdown",
      "source": [
        "## Python basics\n",
        "\n",
        "Variables\n",
        "\n",
        "Variables are used to store data in Python. A variable is declared by assigning it a value. For example:"
      ],
      "metadata": {
        "id": "urR7rdr1IUw-"
      }
    },
    {
      "cell_type": "code",
      "source": [
        "name = \"Alice\"\n",
        "age = 30\n",
        "height = 5.8\n",
        "is_student = True\n"
      ],
      "metadata": {
        "id": "ByqpX7rFIGDP"
      },
      "execution_count": 2,
      "outputs": []
    },
    {
      "cell_type": "markdown",
      "source": [
        "Data types:\n",
        "\n",
        "Python has a number of built-in data types, such as integers, floats, strings, and lists. The data type of a variable determines how it can be used. For example, an integer cannot be added to a string.\n",
        "\n",
        "    Premitive Data Types:\n",
        "        character\n",
        "        string (str)\n",
        "        integer (int)\n",
        "        float (float)\n",
        "        boolean (bool)\n",
        "        complex # complex number (real number + imaginary number)\n",
        "\n",
        "    Non-premitive Data Types:\n",
        "        - List\n",
        "        - tuple\n",
        "        - set\n",
        "        - dictionary"
      ],
      "metadata": {
        "id": "6gHdVJCfIyGt"
      }
    },
    {
      "cell_type": "code",
      "source": [
        "# varible declaration\n",
        "# variableName = someValue\n",
        "name = \"Jay\"\n",
        "print(type(name))\n",
        "print(name)\n",
        "name = 2.3\n",
        "print(type(name))\n",
        "print(name)\n",
        "name = True  # Boolean has only two value i.e. True,  False those are also considered as 1, 0 respectively\n",
        "print(type(name))\n",
        "print(name)\n",
        "name = \"Y\"\n",
        "print(type(name))\n",
        "print(name)\n",
        "name = 3 + 7j  # complex number (real number + imaginary number)\n",
        "print(type(name))\n",
        "print(name)"
      ],
      "metadata": {
        "colab": {
          "base_uri": "https://localhost:8080/"
        },
        "id": "h1nehBTFLC1y",
        "outputId": "d19c37d7-e2cb-4d82-ff8f-83ebd226f0f3"
      },
      "execution_count": 6,
      "outputs": [
        {
          "output_type": "stream",
          "name": "stdout",
          "text": [
            "<class 'str'>\n",
            "Jay\n",
            "<class 'float'>\n",
            "2.3\n",
            "<class 'bool'>\n",
            "True\n",
            "<class 'str'>\n",
            "Y\n",
            "<class 'complex'>\n",
            "(3+7j)\n"
          ]
        }
      ]
    },
    {
      "cell_type": "markdown",
      "source": [
        "##Operators"
      ],
      "metadata": {
        "id": "EgHQwmBWGXbB"
      }
    },
    {
      "cell_type": "code",
      "source": [
        "#Arithmetic Operators\n",
        "x = 10\n",
        "y = 3\n",
        "addition = x + y\n",
        "print(addition)\n",
        "subtraction = x - y\n",
        "print(subtraction)\n",
        "multiplication = x * y\n",
        "print(multiplication)\n",
        "division = x / y\n",
        "print(division)\n",
        "floor = x // y\n",
        "print(floor)\n",
        "modulus = x % y\n",
        "print(modulus)\n"
      ],
      "metadata": {
        "colab": {
          "base_uri": "https://localhost:8080/"
        },
        "id": "PbQxjHsIGkUu",
        "outputId": "6793f253-7061-4036-902d-0b7132598da3"
      },
      "execution_count": 29,
      "outputs": [
        {
          "output_type": "stream",
          "name": "stdout",
          "text": [
            "13\n",
            "7\n",
            "30\n",
            "3.3333333333333335\n",
            "3\n",
            "1\n"
          ]
        }
      ]
    },
    {
      "cell_type": "code",
      "source": [
        "#Comparison Operators\n",
        "x = 10\n",
        "y = 5\n",
        "equals = x == y\n",
        "not_equals = x != y\n",
        "greater_than = x > y\n",
        "less_than = x < y\n"
      ],
      "metadata": {
        "id": "Zw7GNJJ6G-3D"
      },
      "execution_count": 4,
      "outputs": []
    },
    {
      "cell_type": "code",
      "source": [
        "#Logical Operators\n",
        "a = True\n",
        "b = False\n",
        "logical_and = a and b\n",
        "logical_or = a or b\n",
        "logical_not = not a\n"
      ],
      "metadata": {
        "id": "gEaYS9QNHIM1"
      },
      "execution_count": 5,
      "outputs": []
    },
    {
      "cell_type": "code",
      "source": [
        "#Assignment Operators\n",
        "x = 10\n",
        "x += 5  # Equivalent to x = x + 5\n"
      ],
      "metadata": {
        "id": "iIm7THQfHNPK"
      },
      "execution_count": 6,
      "outputs": []
    },
    {
      "cell_type": "code",
      "source": [
        "#Identity and Membership Operators\n",
        "x = [1, 2, 3]\n",
        "y = x\n",
        "is_same = x is y\n",
        "print(is_same)\n",
        "is_in = 2 in x\n",
        "print(is_in)\n",
        "is_not_in = 5 in x\n",
        "print(is_not_in)\n"
      ],
      "metadata": {
        "colab": {
          "base_uri": "https://localhost:8080/"
        },
        "id": "qoX8t-PaHWGi",
        "outputId": "e0eccb4f-5670-4f05-a860-124af1919b37"
      },
      "execution_count": 9,
      "outputs": [
        {
          "output_type": "stream",
          "name": "stdout",
          "text": [
            "True\n",
            "True\n",
            "False\n"
          ]
        }
      ]
    },
    {
      "cell_type": "markdown",
      "source": [
        "##Input and Output"
      ],
      "metadata": {
        "id": "XuSjMIMOIDQo"
      }
    },
    {
      "cell_type": "code",
      "source": [
        "#Taking User Input\n",
        "name = input(\"Enter your name: \")\n",
        "print(\"Hello, \" + name)\n"
      ],
      "metadata": {
        "colab": {
          "base_uri": "https://localhost:8080/"
        },
        "id": "-1Sio-QKHlq8",
        "outputId": "eedc7cb1-52a0-4e13-e924-15debd4b3f11"
      },
      "execution_count": 10,
      "outputs": [
        {
          "output_type": "stream",
          "name": "stdout",
          "text": [
            "Enter your name: VaibhaV\n",
            "Hello, VaibhaV\n"
          ]
        }
      ]
    },
    {
      "cell_type": "code",
      "source": [
        "#Printing Output\n",
        "print(\"This is a simple message.\")\n"
      ],
      "metadata": {
        "colab": {
          "base_uri": "https://localhost:8080/"
        },
        "id": "x3FlZwSoIRJ9",
        "outputId": "83200481-7db3-4646-edb8-027c354a8ea8"
      },
      "execution_count": 11,
      "outputs": [
        {
          "output_type": "stream",
          "name": "stdout",
          "text": [
            "This is a simple message.\n"
          ]
        }
      ]
    },
    {
      "cell_type": "code",
      "source": [
        "name = \"VaibhaV\"\n",
        "surName = \"Arde\"\n",
        "houseNumber = 480\n",
        "print(\"My first name is %s\" % name)\n",
        "print(\"My house number is %d\" % houseNumber)\n",
        "print(\"My name is %s %s and house number is %d\" %(name, surName, houseNumber))"
      ],
      "metadata": {
        "colab": {
          "base_uri": "https://localhost:8080/"
        },
        "id": "lSz7ZblVKdsl",
        "outputId": "30a9c13b-1f18-49d8-e7c1-1a566dcb9523"
      },
      "execution_count": 27,
      "outputs": [
        {
          "output_type": "stream",
          "name": "stdout",
          "text": [
            "My first name is VaibhaV\n",
            "My house number is 480\n",
            "My name is VaibhaV Arde and house number is 480\n"
          ]
        }
      ]
    },
    {
      "cell_type": "code",
      "source": [
        "name = \"VaibhaV\"\n",
        "surName = \"Arde\"\n",
        "houseNumber = 480\n",
        "print(f\"My first name is {name}\")\n",
        "print(f\"My house number is {houseNumber}\")\n",
        "print(f\"My first name is {name} {surName} and house number is {houseNumber}\")"
      ],
      "metadata": {
        "colab": {
          "base_uri": "https://localhost:8080/"
        },
        "id": "KGPFMheoMBJ4",
        "outputId": "25957c72-c6e0-4c6e-81d2-28aeca2ad06e"
      },
      "execution_count": 28,
      "outputs": [
        {
          "output_type": "stream",
          "name": "stdout",
          "text": [
            "My first name is VaibhaV\n",
            "My house number is 480\n",
            "My first name is VaibhaV Arde and house number is 480\n"
          ]
        }
      ]
    },
    {
      "cell_type": "markdown",
      "source": [
        "##Comments and Documentation"
      ],
      "metadata": {
        "id": "q4JG931kImoT"
      }
    },
    {
      "cell_type": "code",
      "source": [
        "#Single-line comments\n",
        "# This is a single-line comment"
      ],
      "metadata": {
        "id": "3duBGis-IqD3"
      },
      "execution_count": 13,
      "outputs": []
    },
    {
      "cell_type": "code",
      "source": [
        "#Multi-line comments (docstrings)\n",
        "\"\"\"\n",
        "This is a\n",
        "multi-line comment.\n",
        "\"\"\"\n"
      ],
      "metadata": {
        "colab": {
          "base_uri": "https://localhost:8080/",
          "height": 36
        },
        "id": "INSVl1OEIwd4",
        "outputId": "c4ff8aa3-5a5b-4a42-9ecb-32e2717ddfc4"
      },
      "execution_count": 14,
      "outputs": [
        {
          "output_type": "execute_result",
          "data": {
            "text/plain": [
              "'\\nThis is a\\nmulti-line comment.\\n'"
            ],
            "application/vnd.google.colaboratory.intrinsic+json": {
              "type": "string"
            }
          },
          "metadata": {},
          "execution_count": 14
        }
      ]
    },
    {
      "cell_type": "markdown",
      "source": [
        "# String slicing:\n",
        "\n",
        "forward slicing\n",
        "\n",
        "backword slicing\n",
        "\n",
        "slicing:\n",
        "\n",
        "variableName[startPosition:endPosition:jump]\n",
        "\n",
        "endPosition: bydefault given endPosition is excluded while slicing\n",
        "\n",
        "jump: bydefault jump is 1"
      ],
      "metadata": {
        "id": "gEOy3fP8MVmd"
      }
    },
    {
      "cell_type": "code",
      "source": [
        "studentName = \"Jay Jadhav\"\n",
        "studentName1 = \"VaibhaV Arde\"\n",
        "firstName = studentName[0:3]\n",
        "print(firstName)\n",
        "lastName = studentName[4::1]\n",
        "print(lastName)\n",
        "nameLength = len(studentName)\n",
        "print(nameLength)\n",
        "certerChar = studentName1[int(len(studentName1) / 2)]\n",
        "print(studentName1[int(len(studentName1) / 2)])\n",
        "print(certerChar)\n",
        "print(7 / 2)\n",
        "print(int(4 / 2))\n"
      ],
      "metadata": {
        "colab": {
          "base_uri": "https://localhost:8080/"
        },
        "id": "yfqi61_DLEjs",
        "outputId": "169d92ca-407a-4376-ece6-5ab85cb8c03d"
      },
      "execution_count": 7,
      "outputs": [
        {
          "output_type": "stream",
          "name": "stdout",
          "text": [
            "Jay\n",
            "Jadhav\n",
            "10\n",
            "V\n",
            "V\n",
            "3.5\n",
            "2\n"
          ]
        }
      ]
    },
    {
      "cell_type": "code",
      "source": [
        "# Reverese\n",
        "randomString = \"wertyuisdfghjkvbnm\"\n",
        "print(randomString[::-1])\n",
        "print(randomString[::-2])"
      ],
      "metadata": {
        "colab": {
          "base_uri": "https://localhost:8080/"
        },
        "id": "giZY3wWZNFzX",
        "outputId": "61e5b7c4-e0c2-4b2e-dc54-fa1c562e87a9"
      },
      "execution_count": 8,
      "outputs": [
        {
          "output_type": "stream",
          "name": "stdout",
          "text": [
            "mnbvkjhgfdsiuytrew\n",
            "mbkhfsute\n"
          ]
        }
      ]
    },
    {
      "cell_type": "code",
      "source": [
        "# # typecasting\n",
        "num = 6789\n",
        "print(str(num))\n",
        "print(type(str(num)))"
      ],
      "metadata": {
        "colab": {
          "base_uri": "https://localhost:8080/"
        },
        "id": "tWX_fvI1NLaF",
        "outputId": "6025953b-48c5-4785-c793-0ad1795b955b"
      },
      "execution_count": 9,
      "outputs": [
        {
          "output_type": "stream",
          "name": "stdout",
          "text": [
            "6789\n",
            "<class 'str'>\n"
          ]
        }
      ]
    },
    {
      "cell_type": "code",
      "source": [
        "studentName1 = \"VaibhaV Arde\"\n",
        "print(studentName1.upper())\n",
        "print((studentName1.upper()).isupper())\n",
        "print(studentName1.lower())\n",
        "print((studentName1.lower()).isupper())\n",
        "\n",
        "print(studentName1.count(\"a\"))  # 2\n",
        "print(studentName1.count(\"A\"))  # 1\n",
        "print(studentName1.title())  # Vaibhav Arde\n",
        "print(studentName1.capitalize())  # Vaibhav arde"
      ],
      "metadata": {
        "colab": {
          "base_uri": "https://localhost:8080/"
        },
        "id": "uWK9-zKbNp2Q",
        "outputId": "59e1c6de-a8a1-4167-e89c-2fcdd5157808"
      },
      "execution_count": 1,
      "outputs": [
        {
          "output_type": "stream",
          "name": "stdout",
          "text": [
            "VAIBHAV ARDE\n",
            "True\n",
            "vaibhav arde\n",
            "False\n",
            "2\n",
            "1\n",
            "Vaibhav Arde\n",
            "Vaibhav arde\n"
          ]
        }
      ]
    },
    {
      "cell_type": "code",
      "source": [],
      "metadata": {
        "id": "ZJR7wvVbNsoQ"
      },
      "execution_count": null,
      "outputs": []
    },
    {
      "cell_type": "markdown",
      "source": [
        "##Data Structures ✅\n",
        "\n",
        "Data structures are fundamental to Python and are used to store and organize data.\n",
        "\n",
        "Data structures in Python:\n",
        "\n",
        "    - Lists\n",
        "    - Tuples\n",
        "    - Sets\n",
        "    - Dictionaries\n",
        "    "
      ],
      "metadata": {
        "id": "6y_7ricRUUKD"
      }
    },
    {
      "cell_type": "markdown",
      "source": [
        "List ✅\n",
        "\n",
        "Lists are ordered, mutable (changeable), and allow duplicate elements.\n",
        "\n",
        "Lists are created by enclosing elements in square brackets [].\n",
        "\n",
        "List has indices, index starts from 0\n",
        "\n",
        "List can store any type of varible"
      ],
      "metadata": {
        "id": "mc8EUB7_VWB_"
      }
    },
    {
      "cell_type": "code",
      "source": [
        "fruits = [\"apple\", \"banana\", \"cherry\"]\n",
        "numbers = [1, 2, 3, 4, 5]\n",
        "mixed_list = [1, \"apple\", True, 3.14]\n",
        "fruits, numbers, mixed_list"
      ],
      "metadata": {
        "colab": {
          "base_uri": "https://localhost:8080/"
        },
        "id": "nsDJbpZDUa07",
        "outputId": "88311aa0-65d2-4288-f8f3-79d7a62b7bda"
      },
      "execution_count": 57,
      "outputs": [
        {
          "output_type": "execute_result",
          "data": {
            "text/plain": [
              "(['apple', 'banana', 'cherry'], [1, 2, 3, 4, 5], [1, 'apple', True, 3.14])"
            ]
          },
          "metadata": {},
          "execution_count": 57
        }
      ]
    },
    {
      "cell_type": "markdown",
      "source": [
        "Common Operations:"
      ],
      "metadata": {
        "id": "X3UO3I2YWSq2"
      }
    },
    {
      "cell_type": "code",
      "source": [
        "# Accessing elements:\n",
        "first_fruit = fruits[0]  # Access the first element (index 0)\n",
        "first_fruit"
      ],
      "metadata": {
        "colab": {
          "base_uri": "https://localhost:8080/",
          "height": 36
        },
        "id": "RyPlJWKkV9UY",
        "outputId": "150e9510-408c-46a3-9799-d300cf50b779"
      },
      "execution_count": 58,
      "outputs": [
        {
          "output_type": "execute_result",
          "data": {
            "text/plain": [
              "'apple'"
            ],
            "application/vnd.google.colaboratory.intrinsic+json": {
              "type": "string"
            }
          },
          "metadata": {},
          "execution_count": 58
        }
      ]
    },
    {
      "cell_type": "code",
      "source": [
        "# Modifying elements:\n",
        "fruits[1] = \"orange\"  # Change the second element to \"orange\"\n",
        "fruits"
      ],
      "metadata": {
        "colab": {
          "base_uri": "https://localhost:8080/"
        },
        "id": "blQV8hv0Wbj6",
        "outputId": "6f1d75bf-170f-410f-d476-3b2ebe36d33a"
      },
      "execution_count": 59,
      "outputs": [
        {
          "output_type": "execute_result",
          "data": {
            "text/plain": [
              "['apple', 'orange', 'cherry']"
            ]
          },
          "metadata": {},
          "execution_count": 59
        }
      ]
    },
    {
      "cell_type": "code",
      "source": [
        "# Adding elements:\n",
        "fruits.append(\"strawberry\")  # Add \"strawberry\" to the end\n",
        "fruits"
      ],
      "metadata": {
        "colab": {
          "base_uri": "https://localhost:8080/"
        },
        "id": "327ffzqBWtFD",
        "outputId": "502b9416-3bf9-4668-c8b3-55f187d72d59"
      },
      "execution_count": 60,
      "outputs": [
        {
          "output_type": "execute_result",
          "data": {
            "text/plain": [
              "['apple', 'orange', 'cherry', 'strawberry']"
            ]
          },
          "metadata": {},
          "execution_count": 60
        }
      ]
    },
    {
      "cell_type": "code",
      "source": [
        "# Adding elements at index\n",
        "fruits.insert(2, 'Mango')\n",
        "fruits"
      ],
      "metadata": {
        "colab": {
          "base_uri": "https://localhost:8080/"
        },
        "id": "X6NFirtKYKVg",
        "outputId": "084517a6-b707-4d71-fe6f-d88fb61d4281"
      },
      "execution_count": 61,
      "outputs": [
        {
          "output_type": "execute_result",
          "data": {
            "text/plain": [
              "['apple', 'orange', 'Mango', 'cherry', 'strawberry']"
            ]
          },
          "metadata": {},
          "execution_count": 61
        }
      ]
    },
    {
      "cell_type": "code",
      "source": [
        "# Removing elements:\n",
        "fruits.remove(\"cherry\")\n",
        "fruits"
      ],
      "metadata": {
        "colab": {
          "base_uri": "https://localhost:8080/"
        },
        "id": "trO82IJYW0H6",
        "outputId": "9811fc6c-6488-4081-9f7b-b3bdd031634a"
      },
      "execution_count": 62,
      "outputs": [
        {
          "output_type": "execute_result",
          "data": {
            "text/plain": [
              "['apple', 'orange', 'Mango', 'strawberry']"
            ]
          },
          "metadata": {},
          "execution_count": 62
        }
      ]
    },
    {
      "cell_type": "code",
      "source": [
        "# List length:\n",
        "num_fruits = len(fruits)  # Get the number of elements in the list\n",
        "num_fruits"
      ],
      "metadata": {
        "colab": {
          "base_uri": "https://localhost:8080/"
        },
        "id": "jUsYCa-gXD7I",
        "outputId": "4c28c71a-f51c-4349-bfcc-becf15db7862"
      },
      "execution_count": 63,
      "outputs": [
        {
          "output_type": "execute_result",
          "data": {
            "text/plain": [
              "4"
            ]
          },
          "metadata": {},
          "execution_count": 63
        }
      ]
    },
    {
      "cell_type": "code",
      "source": [
        "fruit = fruits.pop()  # Removes last element\n",
        "print(fruit)\n",
        "fruits"
      ],
      "metadata": {
        "colab": {
          "base_uri": "https://localhost:8080/"
        },
        "id": "y2QHMmY4Ylal",
        "outputId": "bbdbf0c5-432c-4922-b2b1-6da8094c9a91"
      },
      "execution_count": 64,
      "outputs": [
        {
          "output_type": "stream",
          "name": "stdout",
          "text": [
            "strawberry\n"
          ]
        },
        {
          "output_type": "execute_result",
          "data": {
            "text/plain": [
              "['apple', 'orange', 'Mango']"
            ]
          },
          "metadata": {},
          "execution_count": 64
        }
      ]
    },
    {
      "cell_type": "code",
      "source": [
        "randomList = [\n",
        "    1,\n",
        "    345,\n",
        "    9.3,\n",
        "    \"d\",\n",
        "    \"VaibhaV\",\n",
        "    2 + 5j,\n",
        "    True,\n",
        "    {\"name\": \"VaibhaV\"},\n",
        "    {\"number\": 1234567890},\n",
        "    fruits,\n",
        "]\n",
        "\n",
        "# print(randomList)\n",
        "print(randomList[-1][-1][1:4])"
      ],
      "metadata": {
        "colab": {
          "base_uri": "https://localhost:8080/"
        },
        "id": "C7xp86QvZqf-",
        "outputId": "0bdae1b8-b3df-4a1f-e156-984b4282b9e8"
      },
      "execution_count": 67,
      "outputs": [
        {
          "output_type": "stream",
          "name": "stdout",
          "text": [
            "ang\n"
          ]
        }
      ]
    },
    {
      "cell_type": "markdown",
      "source": [
        "Tuples ✅\n",
        "\n",
        "Tuples are ordered and immutable (cannot be changed).\n",
        "\n",
        "Tuples are created by enclosing elements in parentheses () or simply separating them with commas.\n",
        "\n",
        "Tuple has indices, index starts from 0\n",
        "\n",
        "Tuple can store any type of varible\n",
        "\n"
      ],
      "metadata": {
        "id": "P1A74zy4aK46"
      }
    },
    {
      "cell_type": "code",
      "source": [
        "# Example\n",
        "point = (3, 4, 4, 4, 4, 4, 4, 4)  # Tuple with two elements\n",
        "person = (\"Alice\", 30, \"New York\")  # Mixed data types\n"
      ],
      "metadata": {
        "id": "1c5Pe4QnbfbK"
      },
      "execution_count": 76,
      "outputs": []
    },
    {
      "cell_type": "code",
      "source": [
        "# Accessing elements:\n",
        "name = person[0]  # Access the first element\n",
        "name"
      ],
      "metadata": {
        "colab": {
          "base_uri": "https://localhost:8080/",
          "height": 36
        },
        "id": "7elnPb2zbnjG",
        "outputId": "e11632c7-ab51-4a17-93c3-32d4dfba2ab4"
      },
      "execution_count": 77,
      "outputs": [
        {
          "output_type": "execute_result",
          "data": {
            "text/plain": [
              "'Alice'"
            ],
            "application/vnd.google.colaboratory.intrinsic+json": {
              "type": "string"
            }
          },
          "metadata": {},
          "execution_count": 77
        }
      ]
    },
    {
      "cell_type": "code",
      "source": [
        "# Tuple packing and unpacking:\n",
        "x, y, z= person  # Unpack the tuple into x and y\n",
        "x, y, z"
      ],
      "metadata": {
        "colab": {
          "base_uri": "https://localhost:8080/"
        },
        "id": "H-XhHw8IbyxT",
        "outputId": "999d44ba-dac6-4163-b1a3-1693729322f6"
      },
      "execution_count": 78,
      "outputs": [
        {
          "output_type": "execute_result",
          "data": {
            "text/plain": [
              "('Alice', 30, 'New York')"
            ]
          },
          "metadata": {},
          "execution_count": 78
        }
      ]
    },
    {
      "cell_type": "code",
      "source": [
        "person.index(\"New York\")"
      ],
      "metadata": {
        "colab": {
          "base_uri": "https://localhost:8080/"
        },
        "id": "9OxAEd0ob9j7",
        "outputId": "208f80a5-2825-4b29-b92a-ca9c36c63f20"
      },
      "execution_count": 79,
      "outputs": [
        {
          "output_type": "execute_result",
          "data": {
            "text/plain": [
              "2"
            ]
          },
          "metadata": {},
          "execution_count": 79
        }
      ]
    },
    {
      "cell_type": "code",
      "source": [
        "point.count(4)"
      ],
      "metadata": {
        "colab": {
          "base_uri": "https://localhost:8080/"
        },
        "id": "b0ZkfQcSc2FJ",
        "outputId": "388a53e0-993e-400e-fe23-c9949d640ed7"
      },
      "execution_count": 80,
      "outputs": [
        {
          "output_type": "execute_result",
          "data": {
            "text/plain": [
              "7"
            ]
          },
          "metadata": {},
          "execution_count": 80
        }
      ]
    },
    {
      "cell_type": "markdown",
      "source": [
        "Sets ✅\n",
        "\n",
        "Sets are unordered, mutable (changeable), and do not allow duplicate elements.\n",
        "\n",
        "Sets are created by enclosing elements in curly braces {}.\n",
        "\n",
        "Set has hasing\n",
        "\n",
        "Set has no duplicates\n",
        "\n",
        "Set has no sequence/order\n",
        "\n",
        "So sets are mutable but can't contain mutable items, because set internally uses hashtable to store its elements so for that set elements need to be hashable. But mutable elements like list are not hashable.\n"
      ],
      "metadata": {
        "id": "SAlokP5AdTyU"
      }
    },
    {
      "cell_type": "code",
      "source": [
        "# Example\n",
        "colors = {\"red\", \"green\", \"blue\"}\n",
        "fruits = {\"apple\", \"banana\", \"apple\"}  # Duplicates are removed\n",
        "colors, fruits"
      ],
      "metadata": {
        "colab": {
          "base_uri": "https://localhost:8080/"
        },
        "id": "3zDmt_IcdGL-",
        "outputId": "e9df17fd-2904-4131-bd65-dd02417dc780"
      },
      "execution_count": 86,
      "outputs": [
        {
          "output_type": "execute_result",
          "data": {
            "text/plain": [
              "({'blue', 'green', 'red'}, {'apple', 'banana'})"
            ]
          },
          "metadata": {},
          "execution_count": 86
        }
      ]
    },
    {
      "cell_type": "code",
      "source": [
        "# Adding elements\n",
        "colors.add(\"yellow\")  # Add a new element \"yellow\""
      ],
      "metadata": {
        "id": "yy6rPJwKeYEP"
      },
      "execution_count": 87,
      "outputs": []
    },
    {
      "cell_type": "code",
      "source": [
        "# Removing elements\n",
        "colors.remove(\"red\")  # Remove the element \"red\"\n",
        "colors"
      ],
      "metadata": {
        "colab": {
          "base_uri": "https://localhost:8080/"
        },
        "id": "euSTWHJPeqzI",
        "outputId": "c74bd9a5-3f73-4783-aea8-327be6bfc176"
      },
      "execution_count": 88,
      "outputs": [
        {
          "output_type": "execute_result",
          "data": {
            "text/plain": [
              "{'blue', 'green', 'yellow'}"
            ]
          },
          "metadata": {},
          "execution_count": 88
        }
      ]
    },
    {
      "cell_type": "code",
      "source": [
        "# Set operations (union, intersection, difference, etc.)\n",
        "set1 = {1, 2, 3}\n",
        "set2 = {3, 4, 5}\n",
        "union_set = set1.union(set2)  # Union of two sets\n",
        "union_set"
      ],
      "metadata": {
        "colab": {
          "base_uri": "https://localhost:8080/"
        },
        "id": "7lEjGUXReuXJ",
        "outputId": "2ddb0b36-18be-4466-ac7e-289fb5bb3c6c"
      },
      "execution_count": 89,
      "outputs": [
        {
          "output_type": "execute_result",
          "data": {
            "text/plain": [
              "{1, 2, 3, 4, 5}"
            ]
          },
          "metadata": {},
          "execution_count": 89
        }
      ]
    },
    {
      "cell_type": "markdown",
      "source": [
        "Dictionaries ✅\n",
        "\n",
        "Dictionaries are unordered, mutable, and store data in key-value pairs.\n",
        "\n",
        "Dictionaries are created by enclosing elements in curly braces {}.\n",
        "\n",
        "A dictionary is changeable and do not allow duplicates.\n",
        "\n",
        "Values in a dictionary can be of any data type and can be duplicated, whereas keys can’t be repeated and must be immutable."
      ],
      "metadata": {
        "id": "PLp0GsVrkQTV"
      }
    },
    {
      "cell_type": "code",
      "source": [
        "# Example\n",
        "person = {\n",
        "    \"name\": \"Alice\",\n",
        "    \"age\": 30,\n",
        "    \"location\": \"New York\"\n",
        "}\n"
      ],
      "metadata": {
        "id": "sBcRJu-4lGda"
      },
      "execution_count": 97,
      "outputs": []
    },
    {
      "cell_type": "code",
      "source": [
        "# Accessing values\n",
        "name = person[\"name\"]  # Access value associated with the \"name\" key\n",
        "name"
      ],
      "metadata": {
        "colab": {
          "base_uri": "https://localhost:8080/",
          "height": 36
        },
        "id": "gMXhzNF_lOTv",
        "outputId": "6eb29ef0-496a-435e-8eff-fd8cf5a4ec7d"
      },
      "execution_count": 98,
      "outputs": [
        {
          "output_type": "execute_result",
          "data": {
            "text/plain": [
              "'Alice'"
            ],
            "application/vnd.google.colaboratory.intrinsic+json": {
              "type": "string"
            }
          },
          "metadata": {},
          "execution_count": 98
        }
      ]
    },
    {
      "cell_type": "code",
      "source": [
        "# Modifying values\n",
        "person[\"age\"] = 31  # Change the age to 31\n",
        "person"
      ],
      "metadata": {
        "colab": {
          "base_uri": "https://localhost:8080/"
        },
        "id": "HCptLF5dlSVL",
        "outputId": "7051bb0c-fc06-4e52-b81c-ea2edad9936a"
      },
      "execution_count": 99,
      "outputs": [
        {
          "output_type": "execute_result",
          "data": {
            "text/plain": [
              "{'name': 'Alice', 'age': 31, 'location': 'New York'}"
            ]
          },
          "metadata": {},
          "execution_count": 99
        }
      ]
    },
    {
      "cell_type": "code",
      "source": [
        "# Adding new key-value pairs\n",
        "person[\"job\"] = \"Engineer\"  # Add a new key \"job\" with value \"Engineer\"\n",
        "person"
      ],
      "metadata": {
        "colab": {
          "base_uri": "https://localhost:8080/"
        },
        "id": "h2AsH7M8lbr6",
        "outputId": "0da735b2-9139-493c-bf1b-b793171cf83c"
      },
      "execution_count": 100,
      "outputs": [
        {
          "output_type": "execute_result",
          "data": {
            "text/plain": [
              "{'name': 'Alice', 'age': 31, 'location': 'New York', 'job': 'Engineer'}"
            ]
          },
          "metadata": {},
          "execution_count": 100
        }
      ]
    },
    {
      "cell_type": "code",
      "source": [
        "#Removing key-value pairs\n",
        "del person[\"location\"]  # Remove the \"location\" key-value pair\n",
        "person"
      ],
      "metadata": {
        "colab": {
          "base_uri": "https://localhost:8080/"
        },
        "id": "TOuMtCE8llRS",
        "outputId": "2228eb0f-b4b7-4e3f-e536-7bc313b0a60c"
      },
      "execution_count": 101,
      "outputs": [
        {
          "output_type": "execute_result",
          "data": {
            "text/plain": [
              "{'name': 'Alice', 'age': 31, 'job': 'Engineer'}"
            ]
          },
          "metadata": {},
          "execution_count": 101
        }
      ]
    },
    {
      "cell_type": "code",
      "source": [
        "# Creating a Nested Dictionary and fetching data\n",
        "Dict2 = {1: \"Geeks\", \"me\": \"For\", 3: {\"A\": \"Welcome\", \"B\": \"To\", \"C\": \"Geeks\"}}\n",
        "print(Dict2)\n",
        "\n",
        "print(Dict2[\"me\"])\n",
        "print(Dict2[3][\"C\"])\n",
        "print(Dict2[3][\"A\"])\n",
        "Dict2.update({4: \"Test\"})\n",
        "print(Dict2)\n",
        "Dict2[3][\"B\"] = \"Two\"\n",
        "print(Dict2)"
      ],
      "metadata": {
        "colab": {
          "base_uri": "https://localhost:8080/"
        },
        "id": "5dxw8WpUl4Ge",
        "outputId": "0c1086b4-bf38-4e21-d381-ac148a8c08f6"
      },
      "execution_count": 106,
      "outputs": [
        {
          "output_type": "stream",
          "name": "stdout",
          "text": [
            "{1: 'Geeks', 'me': 'For', 3: {'A': 'Welcome', 'B': 'To', 'C': 'Geeks'}}\n",
            "For\n",
            "Geeks\n",
            "Welcome\n",
            "{1: 'Geeks', 'me': 'For', 3: {'A': 'Welcome', 'B': 'To', 'C': 'Geeks'}, 4: 'Test'}\n",
            "{1: 'Geeks', 'me': 'For', 3: {'A': 'Welcome', 'B': 'Two', 'C': 'Geeks'}, 4: 'Test'}\n"
          ]
        }
      ]
    },
    {
      "cell_type": "code",
      "source": [
        "#pop\n",
        "print(Dict2.pop(\"me\"))\n",
        "print(Dict2)\n",
        "print(Dict2.popitem())\n",
        "print(Dict2)"
      ],
      "metadata": {
        "colab": {
          "base_uri": "https://localhost:8080/"
        },
        "id": "5zTl-iPrmRtl",
        "outputId": "3ec46aba-1269-48ed-92d7-dd3fca24c637"
      },
      "execution_count": 107,
      "outputs": [
        {
          "output_type": "stream",
          "name": "stdout",
          "text": [
            "For\n",
            "{1: 'Geeks', 3: {'A': 'Welcome', 'B': 'Two', 'C': 'Geeks'}, 4: 'Test'}\n",
            "(4, 'Test')\n",
            "{1: 'Geeks', 3: {'A': 'Welcome', 'B': 'Two', 'C': 'Geeks'}}\n"
          ]
        }
      ]
    },
    {
      "cell_type": "code",
      "source": [
        "#popitem\n",
        "Dict1 = {1: \"Geeks\", \"me\": \"For\", 3: {\"A\": \"Welcome\", \"B\": \"To\", \"C\": \"Geeks\"}}\n",
        "print(Dict1)\n",
        "print(Dict1.popitem())\n",
        "print(Dict1)"
      ],
      "metadata": {
        "colab": {
          "base_uri": "https://localhost:8080/"
        },
        "id": "7aqH2pf_mqTX",
        "outputId": "47adeccf-b8cc-466a-b17a-493df3939994"
      },
      "execution_count": 108,
      "outputs": [
        {
          "output_type": "stream",
          "name": "stdout",
          "text": [
            "{1: 'Geeks', 'me': 'For', 3: {'A': 'Welcome', 'B': 'To', 'C': 'Geeks'}}\n",
            "(3, {'A': 'Welcome', 'B': 'To', 'C': 'Geeks'})\n",
            "{1: 'Geeks', 'me': 'For'}\n"
          ]
        }
      ]
    },
    {
      "cell_type": "code",
      "source": [
        "#update\n",
        "Dict1.update({\"me\": \"For\"})\n",
        "print(Dict1)\n",
        "Dict1.update({\"me1\": \"For\"})\n",
        "print(Dict1)\n",
        "Dict1.update({\"me0\": \"For\"})\n",
        "print(Dict1)"
      ],
      "metadata": {
        "colab": {
          "base_uri": "https://localhost:8080/"
        },
        "id": "Ed71wUcemw7G",
        "outputId": "68c0b29b-9ddb-4bc4-c078-764d8fa06f85"
      },
      "execution_count": 109,
      "outputs": [
        {
          "output_type": "stream",
          "name": "stdout",
          "text": [
            "{1: 'Geeks', 'me': 'For'}\n",
            "{1: 'Geeks', 'me': 'For', 'me1': 'For'}\n",
            "{1: 'Geeks', 'me': 'For', 'me1': 'For', 'me0': 'For'}\n"
          ]
        }
      ]
    },
    {
      "cell_type": "markdown",
      "source": [
        "✅ In Python, you can access keys, values, and key-value pairs (items) from a dictionary using various methods"
      ],
      "metadata": {
        "id": "VhExDcSaoUUU"
      }
    },
    {
      "cell_type": "code",
      "source": [
        "#Example:\n",
        "person = {\n",
        "    \"name\": \"Alice\",\n",
        "    \"age\": 30,\n",
        "    \"location\": \"New York\"\n",
        "}"
      ],
      "metadata": {
        "id": "LqQ4gPFEnoOu"
      },
      "execution_count": 110,
      "outputs": []
    },
    {
      "cell_type": "code",
      "source": [
        "# Getting Keys\n",
        "keys = person.keys()\n",
        "print(keys)\n",
        "\n",
        "for key in person:\n",
        "    print(key)\n"
      ],
      "metadata": {
        "colab": {
          "base_uri": "https://localhost:8080/"
        },
        "id": "Vl8ujfckoruK",
        "outputId": "6f291cb1-b094-478c-d09f-40199d345f71"
      },
      "execution_count": 111,
      "outputs": [
        {
          "output_type": "stream",
          "name": "stdout",
          "text": [
            "dict_keys(['name', 'age', 'location'])\n",
            "name\n",
            "age\n",
            "location\n"
          ]
        }
      ]
    },
    {
      "cell_type": "code",
      "source": [
        "# Getting Values\n",
        "values = person.values()\n",
        "print(values)\n",
        "\n",
        "for key in person:\n",
        "    value = person[key]\n",
        "    print(value)\n"
      ],
      "metadata": {
        "colab": {
          "base_uri": "https://localhost:8080/"
        },
        "id": "X9jGM4xBo5I0",
        "outputId": "d57b9063-8554-482a-86b4-be20decc99e0"
      },
      "execution_count": 113,
      "outputs": [
        {
          "output_type": "stream",
          "name": "stdout",
          "text": [
            "dict_values(['Alice', 30, 'New York'])\n",
            "Alice\n",
            "30\n",
            "New York\n"
          ]
        }
      ]
    },
    {
      "cell_type": "code",
      "source": [
        "# Getting Key-Value Pairs (Items)\n",
        "# the items() method returns a list of tuples, where each tuple contains a key-value pair.\n",
        "items = person.items()\n",
        "print(items)\n",
        "\n",
        "for key, value in person.items():\n",
        "    print(key, \":\", value)\n"
      ],
      "metadata": {
        "colab": {
          "base_uri": "https://localhost:8080/"
        },
        "id": "KY53s54LpGbX",
        "outputId": "8d9f4a94-a9dc-4d45-e44c-9da6e19dd749"
      },
      "execution_count": 115,
      "outputs": [
        {
          "output_type": "stream",
          "name": "stdout",
          "text": [
            "dict_items([('name', 'Alice'), ('age', 30), ('location', 'New York')])\n",
            "name : Alice\n",
            "age : 30\n",
            "location : New York\n"
          ]
        }
      ]
    }
  ]
}