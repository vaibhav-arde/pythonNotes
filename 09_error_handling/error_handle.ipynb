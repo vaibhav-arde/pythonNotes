{
 "cells": [
  {
   "cell_type": "markdown",
   "metadata": {},
   "source": [
    "## enumerate() in Python\n",
    "\n",
    "**enumerate()** is a built-in function in Python that adds a counter to an iterable and returns it as an enumerate object. This enumerate object can then be used directly for loops or converted into a list of tuples.\n",
    "\n",
    "### Syntax:\n",
    "```python\n",
    "enumerate(iterable, start=0)\n",
    "```\n",
    "\n",
    "* **iterable:** Any object that can be iterated over (like lists, tuples, strings, etc.)\n",
    "* **start:** Optional starting value for the count (default is 0)\n",
    "\n",
    "### Example:\n",
    "```python\n",
    "fruits = ['apple', 'banana', 'cherry']\n",
    "\n",
    "for index, fruit in enumerate(fruits):\n",
    "    print(index, fruit)\n",
    "```\n",
    "\n",
    "**Output:**\n",
    "```\n",
    "0 apple\n",
    "1 banana\n",
    "2 cherry\n",
    "```\n",
    "\n",
    "### Explanation:\n",
    "* The `enumerate()` function is applied to the `fruits` list.\n",
    "* It returns an enumerate object, which is then iterated over using a `for` loop.\n",
    "* In each iteration, the `index` variable holds the current index (starting from 0), and the `fruit` variable holds the corresponding element from the list.\n",
    "\n",
    "### Additional Examples:\n",
    "\n",
    "#### Starting index from 1:\n",
    "```python\n",
    "for index, fruit in enumerate(fruits, start=1):\n",
    "    print(index, fruit)\n",
    "```\n",
    "\n",
    "#### Converting to a list of tuples:\n",
    "```python\n",
    "enumerate_list = list(enumerate(fruits))\n",
    "print(enumerate_list)  # Output: [(0, 'apple'), (1, 'banana'), (2, 'cherry')]\n",
    "```\n",
    "\n",
    "### Common Use Cases:\n",
    "* Accessing both the index and value of elements in a list or tuple.\n",
    "* Creating numbered lists or dictionaries.\n",
    "* Keeping track of iterations in loops.\n",
    "* Using indices for conditional logic or other operations.\n",
    "\n",
    "**In essence, enumerate() simplifies the process of iterating over a sequence while maintaining a count of the elements.**\n"
   ]
  },
  {
   "cell_type": "code",
   "execution_count": 1,
   "metadata": {},
   "outputs": [
    {
     "data": {
      "text/plain": [
       "[(0, 'apple'), (1, 'banana'), (2, 'cherry')]"
      ]
     },
     "execution_count": 1,
     "metadata": {},
     "output_type": "execute_result"
    }
   ],
   "source": [
    "fruits = ('apple', 'banana', 'cherry')\n",
    "efruit = enumerate(fruits)\n",
    "list(efruit)\n"
   ]
  },
  {
   "cell_type": "code",
   "execution_count": 19,
   "metadata": {},
   "outputs": [],
   "source": [
    "file = open('test.txt', 'w')\n",
    "\n",
    "try:\n",
    "    file.write('Chai aur code')\n",
    "finally:\n",
    "    file.close()\n"
   ]
  },
  {
   "cell_type": "code",
   "execution_count": 20,
   "metadata": {},
   "outputs": [],
   "source": [
    "with open('test.txt', 'w') as f:\n",
    "    f.write('Chai aur Code\\n')"
   ]
  },
  {
   "cell_type": "code",
   "execution_count": 23,
   "metadata": {},
   "outputs": [],
   "source": [
    "with open('test.txt', 'a') as f:\n",
    "    f.write('\\nChai aur Code')"
   ]
  }
 ],
 "metadata": {
  "kernelspec": {
   "display_name": "Python 3",
   "language": "python",
   "name": "python3"
  },
  "language_info": {
   "codemirror_mode": {
    "name": "ipython",
    "version": 3
   },
   "file_extension": ".py",
   "mimetype": "text/x-python",
   "name": "python",
   "nbconvert_exporter": "python",
   "pygments_lexer": "ipython3",
   "version": "3.10.0"
  }
 },
 "nbformat": 4,
 "nbformat_minor": 2
}
