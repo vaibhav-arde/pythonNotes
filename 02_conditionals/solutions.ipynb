{
 "cells": [
  {
   "cell_type": "markdown",
   "metadata": {},
   "source": [
    "Problem: Classify a person's age group: Child (< 13), Teenager (13-19), Adult (20-59), Senior (60+)."
   ]
  },
  {
   "cell_type": "code",
   "execution_count": 3,
   "metadata": {},
   "outputs": [
    {
     "name": "stdout",
     "output_type": "stream",
     "text": [
      "You are a senior citizen\n"
     ]
    }
   ],
   "source": [
    "age = int(input(\"Enter your age: \"))\n",
    "\n",
    "if age < 13:\n",
    "    print(\"You are a child\")\n",
    "elif age < 20:\n",
    "    print(\"You are a teenager\")\n",
    "elif age<60:\n",
    "    print(\"You are an adult\")\n",
    "else:\n",
    "    print(\"You are a senior citizen\")"
   ]
  },
  {
   "cell_type": "markdown",
   "metadata": {},
   "source": [
    "Problem: Movie tickets are priced based on age: $12 for adults (18 and over), $8 for children. Everyone gets a $2 discount on Wednesday."
   ]
  },
  {
   "cell_type": "code",
   "execution_count": 12,
   "metadata": {},
   "outputs": [
    {
     "name": "stdout",
     "output_type": "stream",
     "text": [
      "Movie Ticket price is $6\n"
     ]
    }
   ],
   "source": [
    "from datetime import date\n",
    "# get the day of the week\n",
    "day = date.today().strftime(\"%A\")\n",
    "\n",
    "age = int(input(\"Enter your age: \"))\n",
    "# day =  \n",
    "if age >=18:\n",
    "    price = 12\n",
    "    if day == \"Thursday\":\n",
    "        print(f\"Movie Ticket price is ${price -2 }\")\n",
    "    else:\n",
    "        print(f\"Movie Ticket price is ${price}\")\n",
    "else:\n",
    "    price = 8\n",
    "    if day == \"Thursday\":\n",
    "        print(f\"Movie Ticket price is ${price -2 }\")\n",
    "    else:\n",
    "        print(f\"Movie Ticket price is ${price}\")"
   ]
  },
  {
   "cell_type": "code",
   "execution_count": 10,
   "metadata": {},
   "outputs": [
    {
     "name": "stdout",
     "output_type": "stream",
     "text": [
      "Movie Ticket price is $10\n"
     ]
    }
   ],
   "source": [
    "from datetime import date\n",
    "day = date.today().strftime(\"%A\")\n",
    "age = int(input(\"Enter your age: \"))\n",
    "\n",
    "price = 12 if age >= 18 else 8\n",
    "price -= 2 if day == \"Thursday\" else price\n",
    "\n",
    "print(f\"Movie Ticket price is ${price}\")\n"
   ]
  },
  {
   "cell_type": "markdown",
   "metadata": {},
   "source": [
    "Problem: Assign a letter grade based on a student's score: A (90-100), B (80-89), C (70-79), D (60-69), F (below 60)."
   ]
  },
  {
   "cell_type": "code",
   "execution_count": 20,
   "metadata": {},
   "outputs": [
    {
     "name": "stdout",
     "output_type": "stream",
     "text": [
      "Marks to be from 0 to 100 only!\n",
      "Your grade is F\n"
     ]
    }
   ],
   "source": [
    "marks = int(input(\"Enter your marks: \"))\n",
    "\n",
    "while marks<0 or marks>100:\n",
    "    print('Marks to be from 0 to 100 only!')\n",
    "    marks = int(input(\"Enter valid marks: \"))\n",
    "\n",
    "grade = 'A' if marks>=90 else 'B' if marks>=80 else 'C' if marks>=70 else 'D' if marks>=60 else 'F'   \n",
    "print(f\"Your grade is {grade}\")"
   ]
  },
  {
   "cell_type": "markdown",
   "metadata": {},
   "source": [
    "Problem: Determine if a fruit is ripe, overripe, or unripe based on its color. (e.g., Banana: Green - Unripe, Yellow - Ripe, Brown - Overripe)"
   ]
  },
  {
   "cell_type": "code",
   "execution_count": 24,
   "metadata": {},
   "outputs": [
    {
     "name": "stdout",
     "output_type": "stream",
     "text": [
      "Banana is Unripe\n",
      "Banana is Ripe\n",
      "Banana is Overripe\n"
     ]
    }
   ],
   "source": [
    "def get_state(fruit, color):\n",
    "    if fruit == \"Banana\":\n",
    "        state = \"Unripe\" if color == \"Green\" else \"Ripe\" if color == \"Yellow\" else \"Overripe\"\n",
    "        print(f\"Banana is {state}\")\n",
    "    else:\n",
    "        print(\"Not a banana\")\n",
    "        \n",
    "fruit = \"Banana\"\n",
    "\n",
    "color = \"Green\"      \n",
    "get_state(fruit, color)\n",
    "color = \"Yellow\"\n",
    "get_state(fruit, color)\n",
    "color = \"Brown\"\n",
    "get_state(fruit, color)\n"
   ]
  },
  {
   "cell_type": "markdown",
   "metadata": {},
   "source": [
    "Problem: Suggest an activity based on the weather (e.g., Sunny - Go for a walk, Rainy - Read a book, Snowy - Build a snowman)."
   ]
  },
  {
   "cell_type": "code",
   "execution_count": 28,
   "metadata": {},
   "outputs": [
    {
     "name": "stdout",
     "output_type": "stream",
     "text": [
      "Go for a walk\n",
      "Read a book\n",
      "Build a snowman\n",
      "test: Not correct weather\n"
     ]
    }
   ],
   "source": [
    "def get_activity(weather):\n",
    "    activity = \"Go for a walk\" if weather == \"Sunny\" else \"Read a book\" if weather == \"Rainy\" else \"Build a snowman\" if weather == \"Snowy\" else f\"{weather}: Not correct weather\"\n",
    "    print(activity)\n",
    "    \n",
    "weather = \"Sunny\"\n",
    "get_activity(weather)\n",
    "weather = \"Rainy\"\n",
    "get_activity(weather)\n",
    "weather = \"Snowy\"\n",
    "get_activity(weather)\n",
    "weather = \"test\"\n",
    "get_activity(weather)"
   ]
  },
  {
   "cell_type": "markdown",
   "metadata": {},
   "source": [
    "Problem: Choose a mode of transportation based on the distance (e.g., <3 km: Walk, 3-15 km: Bike, >15 km: Car)."
   ]
  },
  {
   "cell_type": "code",
   "execution_count": 31,
   "metadata": {},
   "outputs": [
    {
     "name": "stdout",
     "output_type": "stream",
     "text": [
      "You should go by Car to reach your destination\n"
     ]
    }
   ],
   "source": [
    "distance = int(input(\"Enter distance to travel: \"))\n",
    "\n",
    "mode = \"walk\" if distance <= 3 else \"Bike\" if distance <= 15 else \"Car\"\n",
    "\n",
    "print(f\"You should go by {mode} to reach your destination\")"
   ]
  },
  {
   "cell_type": "markdown",
   "metadata": {},
   "source": [
    "Problem: Customize a coffee order: \"Small\", \"Medium\", or \"Large\" with an option for \"Extra shot\" of espresso."
   ]
  },
  {
   "cell_type": "code",
   "execution_count": 32,
   "metadata": {},
   "outputs": [
    {
     "name": "stdout",
     "output_type": "stream",
     "text": [
      "Customer has ordered Small coffee with Extra shot of espresso\n",
      "Customer has ordered Small coffee\n",
      "Customer has ordered Medium coffee with Extra shot of espresso\n",
      "Customer has ordered Medium coffee\n",
      "Customer has ordered Large coffee with Extra shot of espresso\n",
      "Customer has ordered Large coffee\n",
      "Not a valid size\n",
      "Not a valid size\n"
     ]
    }
   ],
   "source": [
    "\n",
    "\n",
    "def get_coffee(size, extra):\n",
    "    if size == \"S\" or size == \"M\" or size == \"L\":\n",
    "        order = \"Small\" if size == \"S\" else \"Medium\" if size == \"M\" else \"Large\" if size == \"L\" else \"Not a valid size\"\n",
    "        order = f\"{order} coffee with Extra shot of espresso\" if extra == True else f\"{order} coffee\"\n",
    "        print(f\"Customer has ordered {order}\")\n",
    "    else:\n",
    "        print(\"Not a valid size\")\n",
    "    \n",
    "\n",
    "get_coffee(\"S\", True)\n",
    "get_coffee(\"S\", False)\n",
    "get_coffee(\"M\", True)\n",
    "get_coffee(\"M\", False)\n",
    "get_coffee(\"L\", True)\n",
    "get_coffee(\"L\", False)\n",
    "get_coffee(\"X\", True)\n",
    "get_coffee(\"X\", False)"
   ]
  },
  {
   "cell_type": "markdown",
   "metadata": {},
   "source": [
    "Problem: Check if a password is \"Weak\", \"Medium\", or \"Strong\". Criteria: < 6 chars (Weak), 6-10 chars (Medium), >10 chars (Strong)."
   ]
  },
  {
   "cell_type": "code",
   "execution_count": 34,
   "metadata": {},
   "outputs": [
    {
     "name": "stdout",
     "output_type": "stream",
     "text": [
      "Your password is Weak\n",
      "Your password is Medium\n",
      "Your password is Strong\n",
      "Your password is Weak\n"
     ]
    }
   ],
   "source": [
    "def check_pass(passw):\n",
    "    security = \"Weak\" if len(passw) < 6 else \"Medium\" if len(passw) <= 10 else \"Strong\"\n",
    "    print(f\"Your password is {security}\")\n",
    "    \n",
    "passw = \"12345\"\n",
    "check_pass(passw)\n",
    "passw = \"1234567\"\n",
    "check_pass(passw)\n",
    "passw = \"1234567890123\"\n",
    "check_pass(passw)\n",
    "passw = \"\"\n",
    "check_pass(passw)\n",
    "    "
   ]
  },
  {
   "cell_type": "markdown",
   "metadata": {},
   "source": [
    "Problem: Determine if a year is a leap year. (Leap years are divisible by 4, but not by 100 unless also divisible by 400)."
   ]
  },
  {
   "cell_type": "code",
   "execution_count": 35,
   "metadata": {},
   "outputs": [
    {
     "name": "stdout",
     "output_type": "stream",
     "text": [
      "2024 is a leap year\n"
     ]
    }
   ],
   "source": [
    "year = int(input(\"Enter year: \"))\n",
    "\n",
    "if (year % 400 == 0) or (year % 4 == 0 and year % 100 != 0):\n",
    "    print(f\"{year} is a leap year\")     \n",
    "else:\n",
    "    print(f\"{year} is not a leap year\") "
   ]
  },
  {
   "cell_type": "markdown",
   "metadata": {},
   "source": []
  },
  {
   "cell_type": "code",
   "execution_count": 38,
   "metadata": {},
   "outputs": [
    {
     "name": "stdout",
     "output_type": "stream",
     "text": [
      "Unsupported pet species\n"
     ]
    }
   ],
   "source": [
    "def recommend_pet_food(species, age):\n",
    "  return {\n",
    "      (\"dog\", 0, 2): \"Puppy food\",\n",
    "      (\"dog\", 2, 7): \"Adult dog food\",\n",
    "      (\"dog\", 7, float(\"inf\")): \"Senior dog food\",\n",
    "      (\"cat\", 0, 1): \"Kitten food\",\n",
    "      (\"cat\", 1, 7): \"Adult cat food\",\n",
    "      (\"cat\", 7, float(\"inf\")): \"Senior cat food\"\n",
    "  }.get((species.lower(), age), \"Unsupported pet species\")\n",
    "\n",
    "# Example usage:\n",
    "pet_species = \"dog\"\n",
    "pet_age = 3\n",
    "\n",
    "recommended_food = recommend_pet_food(pet_species, pet_age)\n",
    "print(recommended_food)  # Output: Adult dog food\n"
   ]
  },
  {
   "cell_type": "code",
   "execution_count": 39,
   "metadata": {},
   "outputs": [
    {
     "name": "stdout",
     "output_type": "stream",
     "text": [
      "Adult dog food\n"
     ]
    }
   ],
   "source": [
    "def recommend_pet_food(species, age):\n",
    "    species = species.lower()\n",
    "    food_recommendations = {\n",
    "        (\"dog\", 0, 2): \"Puppy food\",\n",
    "        (\"dog\", 2, 7): \"Adult dog food\",\n",
    "        (\"dog\", 7, float(\"inf\")): \"Senior dog food\",\n",
    "        (\"cat\", 0, 1): \"Kitten food\",\n",
    "        (\"cat\", 1, 7): \"Adult cat food\",\n",
    "        (\"cat\", 7, float(\"inf\")): \"Senior cat food\"\n",
    "    }\n",
    "\n",
    "    for (pet_species, min_age, max_age), food in food_recommendations.items():\n",
    "        if pet_species == species and min_age <= age < max_age:\n",
    "            return food\n",
    "    return \"Unsupported pet species or age range\"\n",
    "\n",
    "# Example usage:\n",
    "pet_species = \"dog\"\n",
    "pet_age = 3\n",
    "\n",
    "recommended_food = recommend_pet_food(pet_species, pet_age)\n",
    "print(recommended_food)  # Output: Adult dog food\n"
   ]
  },
  {
   "cell_type": "code",
   "execution_count": 40,
   "metadata": {},
   "outputs": [
    {
     "data": {
      "text/plain": [
       "dict_items([(('dog', 0, 2), 'Puppy food'), (('dog', 2, 7), 'Adult dog food'), (('dog', 7, inf), 'Senior dog food'), (('cat', 0, 1), 'Kitten food'), (('cat', 1, 7), 'Adult cat food'), (('cat', 7, inf), 'Senior cat food')])"
      ]
     },
     "execution_count": 40,
     "metadata": {},
     "output_type": "execute_result"
    }
   ],
   "source": [
    "food_recommendations = {\n",
    "        (\"dog\", 0, 2): \"Puppy food\",\n",
    "        (\"dog\", 2, 7): \"Adult dog food\",\n",
    "        (\"dog\", 7, float(\"inf\")): \"Senior dog food\",\n",
    "        (\"cat\", 0, 1): \"Kitten food\",\n",
    "        (\"cat\", 1, 7): \"Adult cat food\",\n",
    "        (\"cat\", 7, float(\"inf\")): \"Senior cat food\"\n",
    "    }\n",
    "\n",
    "food_recommendations.items()"
   ]
  }
 ],
 "metadata": {
  "kernelspec": {
   "display_name": "Python 3",
   "language": "python",
   "name": "python3"
  },
  "language_info": {
   "codemirror_mode": {
    "name": "ipython",
    "version": 3
   },
   "file_extension": ".py",
   "mimetype": "text/x-python",
   "name": "python",
   "nbconvert_exporter": "python",
   "pygments_lexer": "ipython3",
   "version": "3.10.0"
  }
 },
 "nbformat": 4,
 "nbformat_minor": 2
}
