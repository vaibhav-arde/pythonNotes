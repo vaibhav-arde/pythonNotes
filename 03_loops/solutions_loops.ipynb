{
 "cells": [
  {
   "cell_type": "markdown",
   "metadata": {},
   "source": [
    "Problem: Given a list of numbers, count how many are positive.\n",
    "numbers = [1, -2, 3, -4, 5, 6, -7, -8, 9, 10]\n"
   ]
  },
  {
   "cell_type": "code",
   "execution_count": 2,
   "metadata": {},
   "outputs": [
    {
     "name": "stdout",
     "output_type": "stream",
     "text": [
      "total positive numbers are 6\n"
     ]
    }
   ],
   "source": [
    "numbers = [1, -2, 3, -4, 5, 6, -7, -8, 9, 10]\n",
    "count=0\n",
    "\n",
    "for num in numbers:\n",
    "    if num >0:\n",
    "        count += 1\n",
    "        \n",
    "print(f\"Total positive numbers are {count}\")\n"
   ]
  },
  {
   "cell_type": "code",
   "execution_count": 4,
   "metadata": {},
   "outputs": [
    {
     "name": "stdout",
     "output_type": "stream",
     "text": [
      "Total positive numbers are 6\n"
     ]
    }
   ],
   "source": [
    "numbers = [1, -2, 3, -4, 5, 6, -7, -8, 9, 10]\n",
    "positive_number_count = 0\n",
    "\n",
    "positive_numbers = filter(lambda x: x > 0, numbers)\n",
    "positive_number_count = len(list(positive_numbers))\n",
    "\n",
    "print(f\"Total positive numbers are {positive_number_count}\")\n"
   ]
  },
  {
   "cell_type": "code",
   "execution_count": 5,
   "metadata": {},
   "outputs": [
    {
     "name": "stdout",
     "output_type": "stream",
     "text": [
      "Total positive numbers are 6\n"
     ]
    }
   ],
   "source": [
    "numbers = [1, -2, 3, -4, 5, 6, -7, -8, 9, 10]\n",
    "positive_number_count = len([num for num in numbers if num>0])\n",
    "print(f\"Total positive numbers are {positive_number_count}\")"
   ]
  },
  {
   "cell_type": "markdown",
   "metadata": {},
   "source": [
    "Problem: Calculate the sum of even numbers up to a given number n."
   ]
  },
  {
   "cell_type": "code",
   "execution_count": 8,
   "metadata": {},
   "outputs": [
    {
     "name": "stdout",
     "output_type": "stream",
     "text": [
      "Sum of positive numbers till 10 is 30\n"
     ]
    }
   ],
   "source": [
    "n = 10\n",
    "sum= 0\n",
    "for i in range(1, n+1):\n",
    "    if i%2 == 0:\n",
    "        sum += i\n",
    "\n",
    "print(f\"Sum of positive numbers till {n} is {sum}\")"
   ]
  },
  {
   "cell_type": "code",
   "execution_count": 1,
   "metadata": {},
   "outputs": [
    {
     "name": "stdout",
     "output_type": "stream",
     "text": [
      "[2, 4, 6, 8, 10]\n",
      "Sum of positive numbers till 10 is 30\n"
     ]
    }
   ],
   "source": [
    "n = 10\n",
    "total = 0\n",
    "l1 =[i for i in range(1, n+1) if i%2 == 0]\n",
    "print(l1)\n",
    "total = sum(list(l1))\n",
    "print(f\"Sum of positive numbers till {n} is {total}\")"
   ]
  },
  {
   "cell_type": "code",
   "execution_count": 2,
   "metadata": {},
   "outputs": [
    {
     "name": "stdout",
     "output_type": "stream",
     "text": [
      "30\n"
     ]
    }
   ],
   "source": [
    "numbers = [2, 4, 6, 8, 10]\n",
    "result = sum(numbers)\n",
    "print(result)  # Output: 30\n"
   ]
  },
  {
   "cell_type": "markdown",
   "metadata": {},
   "source": [
    "Problem: Print the multiplication table for a given number up to 10, but skip the fifth iteration."
   ]
  },
  {
   "cell_type": "code",
   "execution_count": 3,
   "metadata": {},
   "outputs": [
    {
     "name": "stdout",
     "output_type": "stream",
     "text": [
      "7 x 1 = 7\n",
      "7 x 2 = 14\n",
      "7 x 3 = 21\n",
      "7 x 4 = 28\n",
      "7 x 6 = 42\n",
      "7 x 7 = 49\n",
      "7 x 8 = 56\n",
      "7 x 9 = 63\n",
      "7 x 10 = 70\n"
     ]
    }
   ],
   "source": [
    "number =7\n",
    "for i in range(1, 11):\n",
    "    if i != 5:\n",
    "        print(f\"{number} x {i} = {number*i}\")\n",
    "    "
   ]
  },
  {
   "cell_type": "code",
   "execution_count": 33,
   "metadata": {},
   "outputs": [
    {
     "name": "stdout",
     "output_type": "stream",
     "text": [
      "7 x 1 = 7\n",
      "7 x 2 = 14\n",
      "7 x 3 = 21\n",
      "7 x 4 = 28\n",
      "7 x 6 = 42\n",
      "7 x 7 = 49\n",
      "7 x 8 = 56\n",
      "7 x 9 = 63\n",
      "7 x 10 = 70\n"
     ]
    }
   ],
   "source": [
    "number =7\n",
    "for i in range(1, 11):\n",
    "    if i == 5:\n",
    "        continue\n",
    "    print(f\"{number} x {i} = {number*i}\")"
   ]
  },
  {
   "cell_type": "code",
   "execution_count": 30,
   "metadata": {},
   "outputs": [
    {
     "name": "stdout",
     "output_type": "stream",
     "text": [
      "7 x 1 = 7\n",
      "7 x 2 = 14\n",
      "7 x 3 = 21\n",
      "7 x 4 = 28\n",
      "7 x 6 = 42\n",
      "7 x 7 = 49\n",
      "7 x 8 = 56\n",
      "7 x 9 = 63\n",
      "7 x 10 = 70\n"
     ]
    }
   ],
   "source": [
    "number = 7\n",
    "print('\\n'.join(f'{number} x {i} = {number*i}' for i in range(1, 11) if i != 5))\n"
   ]
  },
  {
   "cell_type": "markdown",
   "metadata": {},
   "source": [
    "Problem: Reverse a string using a loop."
   ]
  },
  {
   "cell_type": "code",
   "execution_count": 4,
   "metadata": {},
   "outputs": [
    {
     "name": "stdout",
     "output_type": "stream",
     "text": [
      "nohtyP\n"
     ]
    }
   ],
   "source": [
    "word = \"Python\"\n",
    "reverse_word = \"\"\n",
    "for letter in word:\n",
    "    reverse_word = letter + reverse_word\n",
    "\n",
    "print(reverse_word)"
   ]
  },
  {
   "cell_type": "markdown",
   "metadata": {},
   "source": [
    "Problem: Given a string, find the first non-repeated character."
   ]
  },
  {
   "cell_type": "code",
   "execution_count": 48,
   "metadata": {},
   "outputs": [
    {
     "name": "stdout",
     "output_type": "stream",
     "text": [
      "first non-repeated character is e\n"
     ]
    }
   ],
   "source": [
    "word = \"t2est2\"\n",
    "\n",
    "for char in word:\n",
    "    if word.count(char) == 1:\n",
    "        print(\"first non-repeated character is\", char)\n",
    "        break"
   ]
  },
  {
   "cell_type": "markdown",
   "metadata": {},
   "source": [
    "Problem: Compute the factorial of a number using a while loop."
   ]
  },
  {
   "cell_type": "code",
   "execution_count": 54,
   "metadata": {},
   "outputs": [
    {
     "name": "stdout",
     "output_type": "stream",
     "text": [
      "Factorial of 5 is 120\n"
     ]
    }
   ],
   "source": [
    "inputnum = 5\n",
    "num = inputnum\n",
    "fact=1\n",
    "\n",
    "while(num>0):\n",
    "    fact *= num\n",
    "    num -= 1\n",
    "\n",
    "print(f\"Factorial of {inputnum} is {fact}\")"
   ]
  },
  {
   "cell_type": "markdown",
   "metadata": {},
   "source": [
    "Problem: Keep asking the user for input until they enter a number between 1 and 10."
   ]
  },
  {
   "cell_type": "code",
   "execution_count": 5,
   "metadata": {},
   "outputs": [
    {
     "name": "stdout",
     "output_type": "stream",
     "text": [
      "Thank you for entering a number between 1 and 10. You entered : 2\n"
     ]
    }
   ],
   "source": [
    "num = int(input(\"Enter a number between 1 and 10 : \"))\n",
    "\n",
    "while num < 1 or num > 10:\n",
    "    num = int(input(\"Enter a number between 1 and 10 : \"))\n",
    "print(f\"Thank you for entering a number between 1 and 10. You entered : {num}\")"
   ]
  },
  {
   "cell_type": "code",
   "execution_count": 58,
   "metadata": {},
   "outputs": [
    {
     "name": "stdout",
     "output_type": "stream",
     "text": [
      "Invalid input. Please enter a number between 1 and 10.\n",
      "Thank you for entering a number between 1 and 10. You entered : 2\n"
     ]
    }
   ],
   "source": [
    "while True:\n",
    "    num = int(input(\"Enter a number between 1 and 10 : \"))\n",
    "    if 1 <= num <= 10:\n",
    "        print(f\"Thank you for entering a number between 1 and 10. You entered : {num}\")\n",
    "        break\n",
    "    else:\n",
    "        print(\"Invalid input. Please enter a number between 1 and 10.\")"
   ]
  },
  {
   "cell_type": "markdown",
   "metadata": {},
   "source": [
    "Problem: Check if a number is prime."
   ]
  },
  {
   "cell_type": "code",
   "execution_count": 73,
   "metadata": {},
   "outputs": [
    {
     "name": "stdout",
     "output_type": "stream",
     "text": [
      "29 is a prime number\n"
     ]
    }
   ],
   "source": [
    "number = int(input(\"Enter a number: \"))\n",
    "\n",
    "max_num = number // 2\n",
    "num=2\n",
    "while True:\n",
    "    if number ==2 or number ==3:\n",
    "        print(f\"{number} is a prime number\")\n",
    "        break\n",
    "    if number <=1:\n",
    "        print(f\"{number} is invalid number\")\n",
    "        break\n",
    "    if number % num ==0:\n",
    "        print(f\"{number} is not a prime number\")\n",
    "        break\n",
    "    if num == max_num:\n",
    "        print(f\"{number} is a prime number\")\n",
    "        break\n",
    "    num += 1\n"
   ]
  },
  {
   "cell_type": "code",
   "execution_count": 78,
   "metadata": {},
   "outputs": [
    {
     "name": "stdout",
     "output_type": "stream",
     "text": [
      "5 is a prime number\n"
     ]
    }
   ],
   "source": [
    "number = int(input(\"Enter a number: \"))\n",
    "\n",
    "max_num = (number // 2) +1\n",
    "for num in range(2, max_num):\n",
    "    if number % num == 0:\n",
    "        print(f\"{number} is not a prime number\")\n",
    "        break\n",
    "else:\n",
    "    print(f\"{number} is a prime number\")"
   ]
  },
  {
   "cell_type": "markdown",
   "metadata": {},
   "source": [
    "Problem: Check if all elements in a list are unique. If a duplicate is found, exit the loop and print the duplicate.\n",
    "```python\n",
    "items = [\"apple\", \"banana\", \"orange\", \"apple\", \"mango\"]\n",
    "```"
   ]
  },
  {
   "cell_type": "code",
   "execution_count": 79,
   "metadata": {},
   "outputs": [
    {
     "name": "stdout",
     "output_type": "stream",
     "text": [
      "apple is repeated\n"
     ]
    }
   ],
   "source": [
    "items = [\"apple\", \"banana\", \"orange\", \"apple\", \"mango\"]\n",
    "\n",
    "for item in items:\n",
    "    if items.count(item) > 1:\n",
    "        print(f\"{item} is repeated\")\n",
    "        break"
   ]
  },
  {
   "cell_type": "code",
   "execution_count": 81,
   "metadata": {},
   "outputs": [
    {
     "name": "stdout",
     "output_type": "stream",
     "text": [
      "apple is duplicate\n"
     ]
    }
   ],
   "source": [
    "items = [\"apple\", \"banana\", \"orange\", \"apple\", \"mango\"]\n",
    "\n",
    "unique_items = set()\n",
    "for item in items:\n",
    "    if item in unique_items:\n",
    "        print(f\"{item} is duplicate\")\n",
    "        break\n",
    "    unique_items.add(item)  \n"
   ]
  },
  {
   "cell_type": "markdown",
   "metadata": {},
   "source": [
    "Problem: Implement an exponential backoff strategy that doubles the wait time between retries, starting from 1 second, but stops after 5 retries."
   ]
  },
  {
   "cell_type": "code",
   "execution_count": 85,
   "metadata": {},
   "outputs": [
    {
     "name": "stdout",
     "output_type": "stream",
     "text": [
      "Attempt 1 of 5, wait time is 1 second\n",
      "Attempt 2 of 5, wait time is 2 seconds\n",
      "Attempt 3 of 5, wait time is 4 seconds\n",
      "Attempt 4 of 5, wait time is 8 seconds\n",
      "Attempt 5 of 5, wait time is 16 seconds\n",
      "All attempts are exhausted\n"
     ]
    }
   ],
   "source": [
    "import time\n",
    "\n",
    "max_attempts = 5\n",
    "attempts = 0\n",
    "wait_time = 1\n",
    "\n",
    "while attempts < max_attempts:\n",
    "    # print(\"attempt\", attempts+1, \"of\", max_attempts, \"wait time is\", wait_time, \"seconds\")\n",
    "    print(f\"Attempt {attempts+1} of {max_attempts}, wait time is {wait_time} {'second' if wait_time == 1 else 'seconds'}\")\n",
    "    time.sleep(wait_time)\n",
    "    attempts += 1   \n",
    "    wait_time *= 2\n",
    "    \n",
    "print(\"All attempts are exhausted\")\n"
   ]
  }
 ],
 "metadata": {
  "kernelspec": {
   "display_name": "Python 3",
   "language": "python",
   "name": "python3"
  },
  "language_info": {
   "codemirror_mode": {
    "name": "ipython",
    "version": 3
   },
   "file_extension": ".py",
   "mimetype": "text/x-python",
   "name": "python",
   "nbconvert_exporter": "python",
   "pygments_lexer": "ipython3",
   "version": "3.10.0"
  }
 },
 "nbformat": 4,
 "nbformat_minor": 2
}
