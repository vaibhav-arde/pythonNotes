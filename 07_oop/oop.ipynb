{
 "cells": [
  {
   "cell_type": "markdown",
   "metadata": {},
   "source": [
    "# 1. Basic Class and Object\n",
    "Problem: Create a Car class with attributes like brand and model. Then create an instance of this class."
   ]
  },
  {
   "cell_type": "code",
   "execution_count": 1,
   "metadata": {},
   "outputs": [
    {
     "name": "stdout",
     "output_type": "stream",
     "text": [
      "Ford\n",
      "Mustang\n",
      "Tata\n",
      "Safari\n"
     ]
    }
   ],
   "source": [
    "class Car:\n",
    "    def __init__(self, brand, model):\n",
    "        self.brand = brand\n",
    "        self.model = model\n",
    "        \n",
    "myCar = Car(\"Ford\", \"Mustang\")\n",
    "print(myCar.brand)\n",
    "print(myCar.model)\n",
    "\n",
    "myTata = Car(\"Tata\", \"Safari\")\n",
    "print(myTata.brand)\n",
    "print(myTata.model)"
   ]
  },
  {
   "cell_type": "markdown",
   "metadata": {},
   "source": [
    "# 2. Class Method and Self\n",
    "Problem: Add a method to the Car class that displays the full name of the car (brand and model)."
   ]
  },
  {
   "cell_type": "code",
   "execution_count": 2,
   "metadata": {},
   "outputs": [
    {
     "name": "stdout",
     "output_type": "stream",
     "text": [
      "Tata\n",
      "Safari\n",
      "Tata Safari\n"
     ]
    }
   ],
   "source": [
    "class Car:\n",
    "    def __init__(self, brand, model):\n",
    "        self.brand = brand\n",
    "        self.model = model\n",
    "        \n",
    "    def full_name(self):\n",
    "        return f\"{self.brand} {self.model}\"\n",
    "    \n",
    "    \n",
    "myTata = Car(\"Tata\", \"Safari\")\n",
    "print(myTata.brand)\n",
    "print(myTata.model)\n",
    "print(myTata.full_name())"
   ]
  },
  {
   "cell_type": "markdown",
   "metadata": {},
   "source": [
    "# 3. Inheritance\n",
    "Problem: Create an ElectricCar class that inherits from the Car class and has an additional attribute battery_size."
   ]
  },
  {
   "cell_type": "code",
   "execution_count": 3,
   "metadata": {},
   "outputs": [
    {
     "name": "stdout",
     "output_type": "stream",
     "text": [
      "Tesla\n",
      "Model S\n",
      "100\n",
      "Tesla Model S\n"
     ]
    }
   ],
   "source": [
    "class ElectricCar(Car):\n",
    "    def __init__(self, brand, model, battery_size):\n",
    "        super().__init__(brand, model)\n",
    "        self.battery_size = battery_size    \n",
    "        \n",
    "\n",
    "myTesla = ElectricCar(\"Tesla\", \"Model S\", 100)\n",
    "print(myTesla.brand)\n",
    "print(myTesla.model)\n",
    "print(myTesla.battery_size)\n",
    "print(myTesla.full_name())"
   ]
  },
  {
   "cell_type": "markdown",
   "metadata": {},
   "source": [
    "# 4. Encapsulation\n",
    "Problem: Modify the Car class to encapsulate the brand attribute, making it private, and provide a getter method for it."
   ]
  },
  {
   "cell_type": "code",
   "execution_count": 4,
   "metadata": {},
   "outputs": [
    {
     "name": "stdout",
     "output_type": "stream",
     "text": [
      "Safari\n",
      "Tata Safari\n",
      "Tata !\n"
     ]
    }
   ],
   "source": [
    "class Car:\n",
    "    def __init__(self, brand, model):\n",
    "        self.__brand = brand\n",
    "        self.model = model\n",
    "        \n",
    "    def full_name(self):\n",
    "        return f\"{self.__brand} {self.model}\"\n",
    "    \n",
    "    def get_brand(self):\n",
    "        return self.__brand + \" !\"\n",
    "    \n",
    "    \n",
    "myTata = Car(\"Tata\", \"Safari\")\n",
    "print(myTata.model)\n",
    "print(myTata.full_name())\n",
    "print(myTata.get_brand())"
   ]
  },
  {
   "cell_type": "code",
   "execution_count": 5,
   "metadata": {},
   "outputs": [
    {
     "name": "stdout",
     "output_type": "stream",
     "text": [
      "Safari\n",
      "Tata Safari\n",
      "Tata !\n",
      "None\n",
      "TATA !\n"
     ]
    }
   ],
   "source": [
    "class Car:\n",
    "    def __init__(self, brand, model):\n",
    "        self.__brand = brand\n",
    "        self.model = model\n",
    "        \n",
    "    def full_name(self):\n",
    "        return f\"{self.__brand} {self.model}\"\n",
    "    \n",
    "    def get_brand(self):\n",
    "        return self.__brand + \" !\"\n",
    "    \n",
    "    def set_brand(self, brand):\n",
    "        self.__brand = brand\n",
    "    \n",
    "    \n",
    "myTata = Car(\"Tata\", \"Safari\")\n",
    "print(myTata.model)\n",
    "print(myTata.full_name())\n",
    "print(myTata.get_brand())\n",
    "print(myTata.set_brand(\"TATA\"))\n",
    "print(myTata.get_brand())"
   ]
  },
  {
   "cell_type": "markdown",
   "metadata": {},
   "source": [
    "# 5. Polymorphism\n",
    "Problem: Demonstrate polymorphism by defining a method fuel_type in both Car and ElectricCar classes, but with different behaviors."
   ]
  },
  {
   "cell_type": "code",
   "execution_count": 6,
   "metadata": {},
   "outputs": [
    {
     "name": "stdout",
     "output_type": "stream",
     "text": [
      "Petrol or Diesel\n",
      "Electric Charge\n"
     ]
    }
   ],
   "source": [
    "class Car:\n",
    "    def __init__(self, brand, model):\n",
    "        self.__brand = brand\n",
    "        self.model = model\n",
    "        \n",
    "    def full_name(self):\n",
    "        return f\"{self.__brand} {self.model}\"\n",
    "    \n",
    "    def get_brand(self):\n",
    "        return self.__brand + \" !\"\n",
    "    \n",
    "    def set_brand(self, brand):\n",
    "        self.__brand = brand\n",
    "        \n",
    "    def fuel_type(self):\n",
    "        return \"Petrol or Diesel\"\n",
    "    \n",
    "    \n",
    "\n",
    "class ElectricCar(Car):\n",
    "    def __init__(self, brand, model, battery_size):\n",
    "        super().__init__(brand, model)\n",
    "        self.battery_size = battery_size    \n",
    "        \n",
    "    def fuel_type(self):\n",
    "        return \"Electric Charge\"\n",
    "   \n",
    "myTata = Car(\"Tata\", \"Safari\")    \n",
    "print(myTata.fuel_type()) \n",
    "myTesla = ElectricCar(\"Tesla\", \"Model S\", 100)\n",
    "print(myTesla.fuel_type())"
   ]
  },
  {
   "cell_type": "markdown",
   "metadata": {},
   "source": [
    "# 6. Class Variables\n",
    "Problem: Add a class variable to Car that keeps track of the number of cars created."
   ]
  },
  {
   "cell_type": "code",
   "execution_count": 7,
   "metadata": {},
   "outputs": [
    {
     "name": "stdout",
     "output_type": "stream",
     "text": [
      "Number of cars created : 2\n"
     ]
    }
   ],
   "source": [
    "class Car:\n",
    "    total_car = 0\n",
    "    def __init__(self, brand, model):\n",
    "        self.__brand = brand\n",
    "        self.model = model\n",
    "        Car.total_car += 1\n",
    "        \n",
    "    def full_name(self):\n",
    "        return f\"{self.__brand} {self.model}\"\n",
    "    \n",
    "    def get_brand(self):\n",
    "        return self.__brand + \" !\"\n",
    "    \n",
    "    def set_brand(self, brand):\n",
    "        self.__brand = brand\n",
    "        \n",
    "    def fuel_type(self):\n",
    "        return \"Petrol or Diesel\"\n",
    "    \n",
    "    \n",
    "\n",
    "class ElectricCar(Car):\n",
    "    def __init__(self, brand, model, battery_size):\n",
    "        super().__init__(brand, model)\n",
    "        self.battery_size = battery_size    \n",
    "        \n",
    "    def fuel_type(self):\n",
    "        return \"Electric Charge\"\n",
    "   \n",
    "myTata = Car(\"Tata\", \"Safari\")    \n",
    "# print(myTata.fuel_type()) \n",
    "myTesla = ElectricCar(\"Tesla\", \"Model S\", 100)\n",
    "# print(myTesla.fuel_type())\n",
    "print(f\"Number of cars created : {Car.total_car}\")"
   ]
  },
  {
   "cell_type": "markdown",
   "metadata": {},
   "source": [
    "# 7. Static Method\n",
    "Problem: Add a static method to the Car class that returns a general description of a car."
   ]
  },
  {
   "cell_type": "code",
   "execution_count": 8,
   "metadata": {},
   "outputs": [
    {
     "name": "stdout",
     "output_type": "stream",
     "text": [
      "Cars are means of transport\n",
      "Cars are means of transport\n",
      "Cars are means of transport\n"
     ]
    }
   ],
   "source": [
    "class Car:\n",
    "    total_car = 0\n",
    "    def __init__(self, brand, model):\n",
    "        self.__brand = brand\n",
    "        self.model = model\n",
    "        Car.total_car += 1\n",
    "        \n",
    "    def full_name(self):\n",
    "        return f\"{self.__brand} {self.model}\"\n",
    "    \n",
    "    def get_brand(self):\n",
    "        return self.__brand + \" !\"\n",
    "    \n",
    "    def set_brand(self, brand):\n",
    "        self.__brand = brand\n",
    "        \n",
    "    def fuel_type(self):\n",
    "        return \"Petrol or Diesel\"\n",
    "    \n",
    "    @staticmethod\n",
    "    def general_description():\n",
    "        return \"Cars are means of transport\" \n",
    "    \n",
    "    \n",
    "\n",
    "class ElectricCar(Car):\n",
    "    def __init__(self, brand, model, battery_size):\n",
    "        super().__init__(brand, model)\n",
    "        self.battery_size = battery_size    \n",
    "        \n",
    "    def fuel_type(self):\n",
    "        return \"Electric Charge\"\n",
    "   \n",
    "myTata = Car(\"Tata\", \"Safari\")\n",
    "myTesla = ElectricCar(\"Tesla\", \"Model S\", 100)\n",
    "print(Car.general_description())\n",
    "print(myTata.general_description())\n",
    "print(myTesla.general_description())"
   ]
  },
  {
   "cell_type": "markdown",
   "metadata": {},
   "source": [
    "# 8. Property Decorators\n",
    "Problem: Use a property decorator in the Car class to make the model attribute read-only."
   ]
  },
  {
   "cell_type": "code",
   "execution_count": 9,
   "metadata": {},
   "outputs": [
    {
     "name": "stdout",
     "output_type": "stream",
     "text": [
      "Safari\n",
      "Model S\n"
     ]
    }
   ],
   "source": [
    "class Car:\n",
    "    total_car = 0\n",
    "    def __init__(self, brand, model):\n",
    "        self.__brand = brand\n",
    "        self.__model = model\n",
    "        Car.total_car += 1\n",
    "        \n",
    "    def full_name(self):\n",
    "        return f\"{self.__brand} {self.__model}\"\n",
    "    \n",
    "    def get_brand(self):\n",
    "        return self.__brand + \" !\"\n",
    "    \n",
    "    def set_brand(self, brand):\n",
    "        self.__brand = brand\n",
    "        \n",
    "    def fuel_type(self):\n",
    "        return \"Petrol or Diesel\"\n",
    "    \n",
    "    @staticmethod\n",
    "    def general_description():\n",
    "        return \"Cars are means of transport\" \n",
    "    \n",
    "    @property\n",
    "    def model(self):\n",
    "        return self.__model\n",
    "\n",
    "class ElectricCar(Car):\n",
    "    def __init__(self, brand, model, battery_size):\n",
    "        super().__init__(brand, model)\n",
    "        self.battery_size = battery_size    \n",
    "        \n",
    "    def fuel_type(self):\n",
    "        return \"Electric Charge\"\n",
    "   \n",
    "myTata = Car(\"Tata\", \"Safari\")\n",
    "myTesla = ElectricCar(\"Tesla\", \"Model S\", 100)\n",
    "\n",
    "# myTata.model = \"Nexon\"\n",
    "print(myTata.model)\n",
    "print(myTesla.model)"
   ]
  },
  {
   "cell_type": "markdown",
   "metadata": {},
   "source": [
    "# 9. Class Inheritance and isinstance() Function\n",
    "Problem: Demonstrate the use of isinstance() to check if my_tesla is an instance of Car and ElectricCar."
   ]
  },
  {
   "cell_type": "code",
   "execution_count": 10,
   "metadata": {},
   "outputs": [
    {
     "name": "stdout",
     "output_type": "stream",
     "text": [
      "True\n",
      "False\n",
      "True\n",
      "True\n"
     ]
    }
   ],
   "source": [
    "class Car:\n",
    "    total_car = 0\n",
    "    def __init__(self, brand, model):\n",
    "        self.__brand = brand\n",
    "        self.__model = model\n",
    "        Car.total_car += 1\n",
    "        \n",
    "    def full_name(self):\n",
    "        return f\"{self.__brand} {self.__model}\"\n",
    "    \n",
    "    def get_brand(self):\n",
    "        return self.__brand + \" !\"\n",
    "    \n",
    "    def set_brand(self, brand):\n",
    "        self.__brand = brand\n",
    "        \n",
    "    def fuel_type(self):\n",
    "        return \"Petrol or Diesel\"\n",
    "    \n",
    "    @staticmethod\n",
    "    def general_description():\n",
    "        return \"Cars are means of transport\" \n",
    "    \n",
    "    @property\n",
    "    def model(self):\n",
    "        return self.__model\n",
    "\n",
    "class ElectricCar(Car):\n",
    "    def __init__(self, brand, model, battery_size):\n",
    "        super().__init__(brand, model)\n",
    "        self.battery_size = battery_size    \n",
    "        \n",
    "    def fuel_type(self):\n",
    "        return \"Electric Charge\"\n",
    "   \n",
    "myTata = Car(\"Tata\", \"Safari\")\n",
    "myTesla = ElectricCar(\"Tesla\", \"Model S\", 100)\n",
    "\n",
    "print(isinstance(myTata, Car))\n",
    "print(isinstance(myTata, ElectricCar))\n",
    "print(isinstance(myTesla, Car))\n",
    "print(isinstance(myTesla, ElectricCar))"
   ]
  },
  {
   "cell_type": "markdown",
   "metadata": {},
   "source": [
    "# 10. Multiple Inheritance\n",
    "Problem: Create two classes Battery and Engine, and let the ElectricCar class inherit from both, demonstrating multiple inheritance."
   ]
  },
  {
   "cell_type": "code",
   "execution_count": 11,
   "metadata": {},
   "outputs": [
    {
     "name": "stdout",
     "output_type": "stream",
     "text": [
      "Battery Information\n",
      "Engine Information\n",
      "Tata Safari\n"
     ]
    }
   ],
   "source": [
    "class Battery:\n",
    "    def battery_info(self):\n",
    "        return \"Battery Information\"\n",
    "    \n",
    "class Engine:\n",
    "    def engine_info(self):\n",
    "        return \"Engine Information\"\n",
    "    \n",
    "class EVCar(Car, Battery, Engine):\n",
    "    def __init__(self, brand, model):\n",
    "        super().__init__(brand, model)\n",
    "   \n",
    "myTata = EVCar(\"Tata\", \"Safari\")\n",
    "print(myTata.battery_info())\n",
    "print(myTata.engine_info())\n",
    "print(myTata.full_name())"
   ]
  }
 ],
 "metadata": {
  "kernelspec": {
   "display_name": "Python 3",
   "language": "python",
   "name": "python3"
  },
  "language_info": {
   "codemirror_mode": {
    "name": "ipython",
    "version": 3
   },
   "file_extension": ".py",
   "mimetype": "text/x-python",
   "name": "python",
   "nbconvert_exporter": "python",
   "pygments_lexer": "ipython3",
   "version": "3.10.0"
  }
 },
 "nbformat": 4,
 "nbformat_minor": 2
}
