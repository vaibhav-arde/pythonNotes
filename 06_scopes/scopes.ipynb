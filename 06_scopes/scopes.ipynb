{
 "cells": [
  {
   "cell_type": "code",
   "execution_count": 1,
   "metadata": {},
   "outputs": [
    {
     "name": "stdout",
     "output_type": "stream",
     "text": [
      "chaiaurcode\n",
      "chaiaurcode\n"
     ]
    }
   ],
   "source": [
    "username = \"chaiaurcode\"\n",
    "\n",
    "def func():\n",
    "    # username = \"chai\"\n",
    "    print(username)\n",
    "\n",
    "print(username)\n",
    "func()"
   ]
  },
  {
   "cell_type": "code",
   "execution_count": 2,
   "metadata": {},
   "outputs": [
    {
     "name": "stdout",
     "output_type": "stream",
     "text": [
      "chaiaurcode\n",
      "chai\n"
     ]
    }
   ],
   "source": [
    "username = \"chaiaurcode\"\n",
    "\n",
    "def func():\n",
    "    username = \"chai\"\n",
    "    print(username)\n",
    "\n",
    "print(username)\n",
    "func()"
   ]
  },
  {
   "cell_type": "code",
   "execution_count": 5,
   "metadata": {},
   "outputs": [
    {
     "name": "stdout",
     "output_type": "stream",
     "text": [
      "100\n"
     ]
    }
   ],
   "source": [
    "x = 99 \n",
    "def func2(y):\n",
    "    z = x + y\n",
    "    return z\n",
    "\n",
    "result = func2(1)\n",
    "print(result)"
   ]
  },
  {
   "cell_type": "code",
   "execution_count": 6,
   "metadata": {},
   "outputs": [
    {
     "name": "stdout",
     "output_type": "stream",
     "text": [
      "12\n"
     ]
    }
   ],
   "source": [
    "def func3():\n",
    "    global x\n",
    "    x = 12\n",
    "    \n",
    "func3()\n",
    "print(x)"
   ]
  },
  {
   "cell_type": "code",
   "execution_count": 7,
   "metadata": {},
   "outputs": [
    {
     "name": "stdout",
     "output_type": "stream",
     "text": [
      "88\n"
     ]
    }
   ],
   "source": [
    "def f1():\n",
    "    x = 88\n",
    "    def f2():\n",
    "        print(x)\n",
    "    return f2\n",
    "myResult = f1()\n",
    "myResult()"
   ]
  },
  {
   "cell_type": "code",
   "execution_count": 8,
   "metadata": {},
   "outputs": [
    {
     "name": "stdout",
     "output_type": "stream",
     "text": [
      "9\n",
      "27\n"
     ]
    }
   ],
   "source": [
    "def chaicoder(num):\n",
    "    def actual(x):\n",
    "        return x ** num\n",
    "    return actual\n",
    "\n",
    "\n",
    "f = chaicoder(2)\n",
    "g = chaicoder(3)\n",
    "\n",
    "print(f(3))\n",
    "print(g(3))"
   ]
  }
 ],
 "metadata": {
  "kernelspec": {
   "display_name": "Python 3",
   "language": "python",
   "name": "python3"
  },
  "language_info": {
   "codemirror_mode": {
    "name": "ipython",
    "version": 3
   },
   "file_extension": ".py",
   "mimetype": "text/x-python",
   "name": "python",
   "nbconvert_exporter": "python",
   "pygments_lexer": "ipython3",
   "version": "3.10.0"
  }
 },
 "nbformat": 4,
 "nbformat_minor": 2
}
