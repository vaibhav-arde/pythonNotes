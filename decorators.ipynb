{
 "cells": [
  {
   "cell_type": "markdown",
   "metadata": {},
   "source": [
    "# Problem 1: Timing Function Execution\n",
    "Problem: Write a decorator that measures the time a function takes to execute."
   ]
  },
  {
   "cell_type": "code",
   "execution_count": 1,
   "metadata": {},
   "outputs": [
    {
     "name": "stdout",
     "output_type": "stream",
     "text": [
      "example_function ran in 2.0050606727600098 time\n"
     ]
    }
   ],
   "source": [
    "import time\n",
    "\n",
    "def timer(func):\n",
    "    def wrapper(*args, **kwargs):\n",
    "        start = time.time()\n",
    "        result = func(*args, **kwargs)\n",
    "        end = time.time()\n",
    "        print(f\"{func.__name__} ran in {end-start} time\")\n",
    "        return result\n",
    "    return wrapper\n",
    "\n",
    "\n",
    "@timer\n",
    "def example_function(n):\n",
    "    time.sleep(n)\n",
    "\n",
    "example_function(2)"
   ]
  },
  {
   "cell_type": "markdown",
   "metadata": {},
   "source": [
    "# Problem 2: Debugging Function Calls\n",
    "Problem: Create a decorator to print the function name and the values of its arguments every time the function is called."
   ]
  },
  {
   "cell_type": "code",
   "execution_count": 2,
   "metadata": {},
   "outputs": [
    {
     "name": "stdout",
     "output_type": "stream",
     "text": [
      "calling: hello with args  and kwargs \n",
      "hello\n",
      "calling: greet with args chai and kwargs greeting=hanji \n",
      "hanji , chai\n"
     ]
    }
   ],
   "source": [
    "def debug(func):\n",
    "    def wrapper(*args, **kwargs):\n",
    "        args_value = ', '.join(str(arg) for arg in args)\n",
    "        kwargs_value = ', '.join(f\"{k}={v}\" for k, v in kwargs.\n",
    "        items())\n",
    "        print(f\"calling: {func.__name__} with args {args_value} and kwargs {kwargs_value}\")\n",
    "        return func(*args, **kwargs)\n",
    "    \n",
    "    return wrapper\n",
    "\n",
    "@debug\n",
    "def hello():\n",
    "    print(\"hello\")\n",
    "\n",
    "@debug\n",
    "def greet(name, greeting=\"Hello\"):\n",
    "    print(f\"{greeting}, {name}\")\n",
    "\n",
    "hello()\n",
    "greet(\"chai\", greeting=\"hanji \")"
   ]
  },
  {
   "cell_type": "markdown",
   "metadata": {},
   "source": [
    "# Problem 3: Cache Return Values\n",
    "Problem: Implement a decorator that caches the return values of a function, so that when it's called with the same arguments, the cached value is returned instead of re-executing the function."
   ]
  },
  {
   "cell_type": "code",
   "execution_count": 3,
   "metadata": {},
   "outputs": [
    {
     "name": "stdout",
     "output_type": "stream",
     "text": [
      "{}\n",
      "5\n",
      "5\n",
      "7\n"
     ]
    }
   ],
   "source": [
    "import time\n",
    "\n",
    "def cache(func):\n",
    "    cache_value = {}\n",
    "    print(cache_value)\n",
    "    def wrapper(*args):\n",
    "        if args in cache_value:\n",
    "            return cache_value[args]\n",
    "        result = func(*args)\n",
    "        cache_value[args] = result\n",
    "        return result\n",
    "    return wrapper\n",
    "\n",
    "@cache\n",
    "def long_running_function(a, b):\n",
    "    time.sleep(4)\n",
    "    return a + b\n",
    "\n",
    "print(long_running_function(2, 3))\n",
    "print(long_running_function(2, 3))\n",
    "print(long_running_function(4, 3))"
   ]
  }
 ],
 "metadata": {
  "kernelspec": {
   "display_name": "Python 3",
   "language": "python",
   "name": "python3"
  },
  "language_info": {
   "codemirror_mode": {
    "name": "ipython",
    "version": 3
   },
   "file_extension": ".py",
   "mimetype": "text/x-python",
   "name": "python",
   "nbconvert_exporter": "python",
   "pygments_lexer": "ipython3",
   "version": "3.10.0"
  }
 },
 "nbformat": 4,
 "nbformat_minor": 2
}
